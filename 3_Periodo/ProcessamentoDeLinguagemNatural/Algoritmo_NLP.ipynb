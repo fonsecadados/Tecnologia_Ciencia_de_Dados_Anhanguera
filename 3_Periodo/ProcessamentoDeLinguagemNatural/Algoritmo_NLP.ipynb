{
 "cells": [
  {
   "cell_type": "code",
   "execution_count": 1,
   "id": "a1db0e7f",
   "metadata": {},
   "outputs": [
    {
     "name": "stderr",
     "output_type": "stream",
     "text": [
      "[nltk_data] Downloading package punkt to\n",
      "[nltk_data]     C:\\Users\\syafo\\AppData\\Roaming\\nltk_data...\n",
      "[nltk_data]   Package punkt is already up-to-date!\n"
     ]
    }
   ],
   "source": [
    "import nltk\n",
    "nltk.download(\"punkt\")\n",
    "\n",
    "from nltk.tokenize import word_tokenize\n",
    "from nltk.corpus import stopwords\n",
    "from nltk.probability import FreqDist\n"
   ]
  },
  {
   "cell_type": "code",
   "execution_count": 2,
   "id": "25f6777f",
   "metadata": {},
   "outputs": [],
   "source": [
    "# Texto - Poema de Manuel bandeira - Vou-me embora pra Passárgada (1930)\n",
    "\n",
    "texto = (\"\"\"\n",
    "Vou-me embora pra Pasárgada\n",
    "Lá sou amigo do rei\n",
    "Lá tenho a mulher que eu quero\n",
    "Na cama que escolherei\n",
    "Vou-me embora pra Pasárgada\n",
    "\n",
    "Vou-me embora pra Pasárgada\n",
    "Aqui eu não sou feliz\n",
    "Lá a existência é uma aventura\n",
    "De tal modo inconseqüente\n",
    "Que Joana a Louca de Espanha\n",
    "Rainha e falsa demente\n",
    "Vem a ser contraparente\n",
    "Da nora que nunca tive\n",
    "\n",
    "E como farei ginástica\n",
    "Andarei de bicicleta\n",
    "Montarei em burro brabo\n",
    "Subirei no pau-de-sebo\n",
    "Tomarei banhos de mar!\n",
    "E quando estiver cansado\n",
    "Deito na beira do rio\n",
    "Mando chamar a mãe - d’água.\n",
    "Pra me contar as histórias\n",
    "Que no tempo de eu menino\n",
    "Rosa vinha me contar\n",
    "Vou-me embora pra Pasárgada\n",
    "\n",
    "Em Pasárgada tem tudo\n",
    "É outra civilização\n",
    "Tem um processo seguro\n",
    "De impedir a concepção\n",
    "Tem telefone automático\n",
    "Tem alcalóide à vontade\n",
    "Tem prostitutas bonitas\n",
    "Para a gente namorar\n",
    "\n",
    "E quando eu estiver mais triste\n",
    "Mas triste de não ter jeito\n",
    "Quando de noite me der\n",
    "Vontade de me matar\n",
    "- Lá sou amigo do rei -\n",
    "Terei a mulher que eu quero\n",
    "Na cama que escolherei\n",
    "Vou-me embora pra Pasárgada.\n",
    "\n",
    " \"\"\")"
   ]
  },
  {
   "cell_type": "code",
   "execution_count": 3,
   "id": "42fca6e7",
   "metadata": {},
   "outputs": [
    {
     "name": "stdout",
     "output_type": "stream",
     "text": [
      "['Vou-me', 'embora', 'pra', 'Pasárgada', 'Lá', 'sou', 'amigo', 'do', 'rei', 'Lá', 'tenho', 'a', 'mulher', 'que', 'eu', 'quero', 'Na', 'cama', 'que', 'escolherei', 'Vou-me', 'embora', 'pra', 'Pasárgada', 'Vou-me', 'embora', 'pra', 'Pasárgada', 'Aqui', 'eu', 'não', 'sou', 'feliz', 'Lá', 'a', 'existência', 'é', 'uma', 'aventura', 'De', 'tal', 'modo', 'inconseqüente', 'Que', 'Joana', 'a', 'Louca', 'de', 'Espanha', 'Rainha', 'e', 'falsa', 'demente', 'Vem', 'a', 'ser', 'contraparente', 'Da', 'nora', 'que', 'nunca', 'tive', 'E', 'como', 'farei', 'ginástica', 'Andarei', 'de', 'bicicleta', 'Montarei', 'em', 'burro', 'brabo', 'Subirei', 'no', 'pau-de-sebo', 'Tomarei', 'banhos', 'de', 'mar', '!', 'E', 'quando', 'estiver', 'cansado', 'Deito', 'na', 'beira', 'do', 'rio', 'Mando', 'chamar', 'a', 'mãe', '-', 'd', '’', 'água', '.', 'Pra', 'me', 'contar', 'as', 'histórias', 'Que', 'no', 'tempo', 'de', 'eu', 'menino', 'Rosa', 'vinha', 'me', 'contar', 'Vou-me', 'embora', 'pra', 'Pasárgada', 'Em', 'Pasárgada', 'tem', 'tudo', 'É', 'outra', 'civilização', 'Tem', 'um', 'processo', 'seguro', 'De', 'impedir', 'a', 'concepção', 'Tem', 'telefone', 'automático', 'Tem', 'alcalóide', 'à', 'vontade', 'Tem', 'prostitutas', 'bonitas', 'Para', 'a', 'gente', 'namorar', 'E', 'quando', 'eu', 'estiver', 'mais', 'triste', 'Mas', 'triste', 'de', 'não', 'ter', 'jeito', 'Quando', 'de', 'noite', 'me', 'der', 'Vontade', 'de', 'me', 'matar', '-', 'Lá', 'sou', 'amigo', 'do', 'rei', '-', 'Terei', 'a', 'mulher', 'que', 'eu', 'quero', 'Na', 'cama', 'que', 'escolherei', 'Vou-me', 'embora', 'pra', 'Pasárgada', '.']\n"
     ]
    }
   ],
   "source": [
    "# Tokenização\n",
    "\n",
    "tokens_texto = word_tokenize(texto)\n",
    "print(tokens_texto)"
   ]
  },
  {
   "cell_type": "code",
   "execution_count": 4,
   "id": "21b2b7b3",
   "metadata": {},
   "outputs": [
    {
     "name": "stdout",
     "output_type": "stream",
     "text": [
      "['Vou-me', 'embora', 'pra', 'Pasárgada', 'Lá', 'amigo', 'rei', 'Lá', 'mulher', 'quero', 'cama', 'escolherei', 'Vou-me', 'embora', 'pra', 'Pasárgada', 'Vou-me', 'embora', 'pra', 'Pasárgada', 'Aqui', 'feliz', 'Lá', 'existência', 'aventura', 'tal', 'modo', 'inconseqüente', 'Joana', 'Louca', 'Espanha', 'Rainha', 'falsa', 'demente', 'Vem', 'contraparente', 'nora', 'nunca', 'farei', 'ginástica', 'Andarei', 'bicicleta', 'Montarei', 'burro', 'brabo', 'Subirei', 'pau-de-sebo', 'Tomarei', 'banhos', 'mar', '!', 'cansado', 'Deito', 'beira', 'rio', 'Mando', 'chamar', 'mãe', '-', 'd', '’', 'água', '.', 'Pra', 'contar', 'histórias', 'tempo', 'menino', 'Rosa', 'vinha', 'contar', 'Vou-me', 'embora', 'pra', 'Pasárgada', 'Pasárgada', 'tudo', 'outra', 'civilização', 'processo', 'seguro', 'impedir', 'concepção', 'telefone', 'automático', 'alcalóide', 'vontade', 'prostitutas', 'bonitas', 'gente', 'namorar', 'triste', 'triste', 'ter', 'jeito', 'noite', 'der', 'Vontade', 'matar', '-', 'Lá', 'amigo', 'rei', '-', 'mulher', 'quero', 'cama', 'escolherei', 'Vou-me', 'embora', 'pra', 'Pasárgada', '.']\n"
     ]
    }
   ],
   "source": [
    "# Stop Words\n",
    "\n",
    "stop_word = set(stopwords.words('Portuguese'))\n",
    "texto_filtrado = [word for word in tokens_texto if word.lower() not in stop_word]\n",
    "print(texto_filtrado)"
   ]
  },
  {
   "cell_type": "code",
   "execution_count": 5,
   "id": "45d8f117",
   "metadata": {},
   "outputs": [
    {
     "name": "stdout",
     "output_type": "stream",
     "text": [
      "[('Pasárgada', 6), ('Vou-me', 5), ('embora', 5), ('pra', 5), ('Lá', 4), ('-', 3), ('amigo', 2), ('rei', 2), ('mulher', 2), ('quero', 2)]\n"
     ]
    }
   ],
   "source": [
    "# Frequência\n",
    "\n",
    "dist_freq = FreqDist(texto_filtrado)\n",
    "print(dist_freq.most_common(10))"
   ]
  }
 ],
 "metadata": {
  "kernelspec": {
   "display_name": "faculdade",
   "language": "python",
   "name": "python3"
  },
  "language_info": {
   "codemirror_mode": {
    "name": "ipython",
    "version": 3
   },
   "file_extension": ".py",
   "mimetype": "text/x-python",
   "name": "python",
   "nbconvert_exporter": "python",
   "pygments_lexer": "ipython3",
   "version": "3.11.3"
  }
 },
 "nbformat": 4,
 "nbformat_minor": 5
}
